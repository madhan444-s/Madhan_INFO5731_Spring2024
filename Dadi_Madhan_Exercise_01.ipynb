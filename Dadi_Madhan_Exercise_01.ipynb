{
  "cells": [
    {
      "cell_type": "markdown",
      "metadata": {
        "id": "view-in-github",
        "colab_type": "text"
      },
      "source": [
        "<a href=\"https://colab.research.google.com/github/madhan444-s/Madhan_INFO5731_Spring2024/blob/main/Dadi_Madhan_Exercise_01.ipynb\" target=\"_parent\"><img src=\"https://colab.research.google.com/assets/colab-badge.svg\" alt=\"Open In Colab\"/></a>"
      ]
    },
    {
      "cell_type": "markdown",
      "metadata": {
        "id": "DymRJbxDBCnf"
      },
      "source": [
        "# **This first In-class-exercise cover a variety of fundamental concepts in Python and are designed to help individuals improve their coding skills and problem-solving abilities.**\n",
        "\n",
        "The submission is due on 01/31/2024 11:59 PM. This submission is worth 40 points in total.\n"
      ]
    },
    {
      "cell_type": "markdown",
      "source": [
        "(1) Write a Python program that  prompts the user to input the length and width of a rectangle, and then calculates and displays the area of the rectangle."
      ],
      "metadata": {
        "id": "FBKvD6O_TY6e"
      }
    },
    {
      "cell_type": "code",
      "source": [
        "try:\n",
        "    # Prompts for the user to provide the length and width of a rectangle\n",
        "    length = float(input(\"Enter the length of the rectangle: \"))\n",
        "    width = float(input(\"Enter the width of the rectangle: \"))\n",
        "\n",
        "    # Calculating the area of the rectangle\n",
        "    area = length * width\n",
        "\n",
        "    # Display the area of the rectangleb\n",
        "\n",
        "    print(f\"The area of the rectangle is: {area}\")\n",
        "\n",
        "except ValueError:\n",
        "    print(\"Invalid input. Please enter numeric values for length and width.\")\n"
      ],
      "metadata": {
        "id": "cikVKDXdTbzE",
        "colab": {
          "base_uri": "https://localhost:8080/"
        },
        "outputId": "dc593bdf-ca40-4daf-a64c-b78bc113a5d2"
      },
      "execution_count": 39,
      "outputs": [
        {
          "output_type": "stream",
          "name": "stdout",
          "text": [
            "Enter the length of the rectangle: 3\n",
            "Enter the width of the rectangle: 4\n",
            "The area of the rectangle is: 12.0\n"
          ]
        }
      ]
    },
    {
      "cell_type": "markdown",
      "source": [
        "(2) Create a Python program that interactively takes two numerical inputs from the user and swaps their values without utilizing an extra variable."
      ],
      "metadata": {
        "id": "E9RqrlwdTfvl"
      }
    },
    {
      "cell_type": "code",
      "source": [
        "try:\n",
        "    # Prompts for the user to provide two numerical values\n",
        "    n1 = float(input(\"Enter the first numerical value: \"))\n",
        "    n2 = float(input(\"Enter the second numerical value: \"))\n",
        "\n",
        "    # Displaying the values before swapping\n",
        "    print(f\"Before swapping: num1 = {n1}, num2 = {n2}\")\n",
        "\n",
        "    # Swaping the values without using an extra variable\n",
        "    n1 = n1 + n2\n",
        "    n2 = n1 - n2\n",
        "    n1 = n1 - n2\n",
        "\n",
        "    # Displaying the values after swapping\n",
        "    print(f\"After swapping: num1 = {n1}, num2 = {n2}\")\n",
        "\n",
        "except ValueError:\n",
        "    print(\"Invalid input. Please enter numeric values.\")\n"
      ],
      "metadata": {
        "id": "4XvRknixTh1g",
        "colab": {
          "base_uri": "https://localhost:8080/"
        },
        "outputId": "4ae9c820-3ae1-411e-9df4-80bb0b299c2c"
      },
      "execution_count": 40,
      "outputs": [
        {
          "output_type": "stream",
          "name": "stdout",
          "text": [
            "Enter the first numerical value: 4\n",
            "Enter the second numerical value: 5\n",
            "Before swapping: num1 = 4.0, num2 = 5.0\n",
            "After swapping: num1 = 5.0, num2 = 4.0\n"
          ]
        }
      ]
    },
    {
      "cell_type": "markdown",
      "metadata": {
        "id": "03jb4GZsBkBS"
      },
      "source": [
        "(3) Write a Python script to determine and print the length of a user-input\n",
        "\n",
        "string."
      ]
    },
    {
      "cell_type": "code",
      "execution_count": 41,
      "metadata": {
        "id": "YaGLbSHHB8Ej",
        "colab": {
          "base_uri": "https://localhost:8080/"
        },
        "outputId": "249228c9-60ad-4bf2-cde3-2a617c5ac46d"
      },
      "outputs": [
        {
          "output_type": "stream",
          "name": "stdout",
          "text": [
            "Enter a string: maddy\n",
            "The length of the input string is: 5\n"
          ]
        }
      ],
      "source": [
        "# write your answer here\n",
        "try:\n",
        "    # Prompt the user to input a string\n",
        "    str = input(\"Enter a string: \")\n",
        "\n",
        "    # Determine and print the length of the input string\n",
        "    length = len(str)\n",
        "    print(f\"The length of the input string is: {length}\")\n",
        "\n",
        "except Exception as e:\n",
        "    print(f\"An error occurred: {e}\")\n"
      ]
    },
    {
      "cell_type": "markdown",
      "metadata": {
        "id": "jJDe71iLB616"
      },
      "source": [
        "(4) Construct a Python program that counts and displays the occurrences of each character in a given string.\n",
        "\n",
        "Sample String: 'openai.ai',\n",
        "\n",
        "Expected Result: {'a': 2, 'i': 2, '.': 1, 'o': 1, 'p': 1, 'e': 1, 'n': 1}"
      ]
    },
    {
      "cell_type": "code",
      "execution_count": 6,
      "metadata": {
        "id": "MtKskTzbCLaU",
        "colab": {
          "base_uri": "https://localhost:8080/"
        },
        "outputId": "508addbb-3568-4100-f2c6-47242da3d5cd"
      },
      "outputs": [
        {
          "output_type": "stream",
          "name": "stdout",
          "text": [
            "Enter a string: open.ai\n",
            "Occurrences of each character:\n",
            "{'o': 1, 'p': 1, 'e': 1, 'n': 1, '.': 1, 'a': 1, 'i': 1}\n"
          ]
        }
      ],
      "source": [
        "# write your answer here\n",
        "try:\n",
        "    # Given sample string\n",
        "    sampleString = input(\"Enter a string: \")\n",
        "\n",
        "    # Initializing an empty dictionary to store character occurrences\n",
        "    occurrences = {}\n",
        "\n",
        "    # finding the count occurrences of each character in the string\n",
        "    for char in sampleString:\n",
        "        # Increment the count if the character is already in the dictionary, otherwise, set the count to 1\n",
        "        occurrences[char] = occurrences.get(char, 0) + 1\n",
        "\n",
        "    # Displaying the result\n",
        "    print(\"Occurrences of each character:\")\n",
        "    print(occurrences)\n",
        "\n",
        "except Exception as e:\n",
        "    print(f\"An error occurred: {e}\")\n",
        "\n"
      ]
    },
    {
      "cell_type": "markdown",
      "metadata": {
        "id": "55W9AMdXCSpV"
      },
      "source": [
        "(5) Design a Python code to calculate the sum of all elements in a user-provided list.\n",
        "\n"
      ]
    },
    {
      "cell_type": "code",
      "execution_count": 42,
      "metadata": {
        "id": "I57NXsauCec2",
        "colab": {
          "base_uri": "https://localhost:8080/"
        },
        "outputId": "26c6b4af-acdd-4be5-cfc7-5c64b03dfffc"
      },
      "outputs": [
        {
          "output_type": "stream",
          "name": "stdout",
          "text": [
            "Enter a list of numbers separated by commas: 4,6,3,2\n",
            "The sum of all elements in the list is: 15.0\n"
          ]
        }
      ],
      "source": [
        "# write your answer here\n",
        "try:\n",
        "    # Prompts for the user to input a list of numbers\n",
        "    userInput = input(\"Enter a list of numbers separated by commas: \")\n",
        "\n",
        "    # Convert the input string to a list of floats\n",
        "    numbers = [float(n) for n in userInput.split(',')]\n",
        "\n",
        "    # Calculating the sum of all elements in the list\n",
        "    totalSum = sum(numbers)\n",
        "\n",
        "    # Displaying the result\n",
        "    print(f\"The sum of all elements in the list is: {totalSum}\")\n",
        "\n",
        "except ValueError:\n",
        "    print(\"Invalid input. Please enter a valid list of numbers.\")\n",
        "\n"
      ]
    },
    {
      "cell_type": "markdown",
      "metadata": {
        "id": "4ulBZ6yhCi9F"
      },
      "source": [
        "(6) Write a Python program that modifies a given string by replacing all occurrences of its first character with '$', excluding the first character itself.\n",
        "\n",
        "\n",
        "Sample String : 'restart‘,\n",
        "\n",
        "Expected Result : 'resta\\$t'"
      ]
    },
    {
      "cell_type": "code",
      "execution_count": 12,
      "metadata": {
        "id": "Fj0XhwbBCw2o",
        "colab": {
          "base_uri": "https://localhost:8080/"
        },
        "outputId": "e5a85b93-d510-4e12-87a3-709b92d42518"
      },
      "outputs": [
        {
          "output_type": "stream",
          "name": "stdout",
          "text": [
            "Enter a string: mummy\n",
            "The modified string is: mu$$y\n"
          ]
        }
      ],
      "source": [
        "# write your answer here\n",
        "try:\n",
        "    # Given sample string\n",
        "    sampleString = input(\"Enter a string: \")\n",
        "\n",
        "    if len(sampleString) > 0:\n",
        "\n",
        "        char1 = sampleString[0]\n",
        "\n",
        "        # Replace all occurrences of the first character with '$', excluding the first character itself\n",
        "        requiredString = char1 + sampleString[1:].replace(char1, '$')\n",
        "\n",
        "        # Display the result\n",
        "        print(f\"The modified string is: {requiredString}\")\n",
        "\n",
        "    else:\n",
        "        print(\"The given string is empty.\")\n",
        "\n",
        "except Exception as e:\n",
        "    print(f\"An error occurred: {e}\")\n"
      ]
    },
    {
      "cell_type": "markdown",
      "source": [
        "(7) Write a Python program using a while loop to compute the factorial of a user-supplied number."
      ],
      "metadata": {
        "id": "qVXA3q7ET5JI"
      }
    },
    {
      "cell_type": "code",
      "source": [
        "# write your answer here\n",
        "try:\n",
        "\n",
        "    userInput = int(input(\"Enter a valid integer: \"))\n",
        "\n",
        "    if userInput < 0:\n",
        "        print(\"Please enter a valid integer.\")\n",
        "    else:\n",
        "        factorial = 1\n",
        "        i = 1\n",
        "\n",
        "        # Compute the factorial using a while loop\n",
        "        while i <= userInput:\n",
        "            factorial *= i\n",
        "            i += 1\n",
        "\n",
        "        print(f\"The factorial of {userInput} is: {factorial}\")\n",
        "\n",
        "except ValueError:\n",
        "    print(\"Invalid input. Please enter a valid valid integer.\")\n"
      ],
      "metadata": {
        "id": "Lbt7R6UkT7BA",
        "colab": {
          "base_uri": "https://localhost:8080/"
        },
        "outputId": "4770ed53-a726-42bf-876f-a4700fbae5c1"
      },
      "execution_count": 13,
      "outputs": [
        {
          "output_type": "stream",
          "name": "stdout",
          "text": [
            "Enter a valid integer: 4\n",
            "The factorial of 4 is: 24\n"
          ]
        }
      ]
    },
    {
      "cell_type": "markdown",
      "source": [
        "(8) Create a program that accepts a list of numbers as input and outputs a new list containing only the even numbers."
      ],
      "metadata": {
        "id": "6YfbzXMNT--R"
      }
    },
    {
      "cell_type": "code",
      "source": [
        "# write your answer here\n",
        "try:\n",
        "    userInput = input(\"Enter a list of numbers separated by commas: \")\n",
        "\n",
        "    # Convert the input string to a list of integers\n",
        "    numbers = [int(num) for num in userInput.split(',')]\n",
        "\n",
        "    # Create a new list containing only the even numbers\n",
        "    evenNumbers = [num for num in numbers if num % 2 == 0]\n",
        "\n",
        "    print(f\"The list of even numbers is: {evenNumbers}\")\n",
        "\n",
        "except ValueError:\n",
        "    print(\"Invalid input. Please enter a valid list of numbers.\")\n"
      ],
      "metadata": {
        "id": "54q7wMQPUAKu",
        "colab": {
          "base_uri": "https://localhost:8080/"
        },
        "outputId": "89cb708b-4084-4ba7-dbb5-aceeeae67be4"
      },
      "execution_count": 14,
      "outputs": [
        {
          "output_type": "stream",
          "name": "stdout",
          "text": [
            "Enter a list of numbers separated by commas: 3,4,5,6\n",
            "The list of even numbers is: [4, 6]\n"
          ]
        }
      ]
    },
    {
      "cell_type": "markdown",
      "metadata": {
        "id": "_bIP7s1MCzue"
      },
      "source": [
        "\n",
        "(9) Design a Python function to check if a number is prime.\n"
      ]
    },
    {
      "cell_type": "code",
      "execution_count": 43,
      "metadata": {
        "id": "w79QilHXD3Mg",
        "colab": {
          "base_uri": "https://localhost:8080/"
        },
        "outputId": "658cb34b-b28f-4bdc-99d8-38515efad6e5"
      },
      "outputs": [
        {
          "output_type": "stream",
          "name": "stdout",
          "text": [
            "Enter a number to check if it's prime: 43\n",
            "43 is a prime number.\n"
          ]
        }
      ],
      "source": [
        "# write your answer here\n",
        "def isPrime(number):\n",
        "    if number < 2:\n",
        "        return False\n",
        "    for i in range(2, int(number**0.5) + 1):\n",
        "        if number % i == 0:\n",
        "            return False\n",
        "    return True\n",
        "\n",
        "try:\n",
        "    userInput = int(input(\"Enter a number to check if it's prime: \"))\n",
        "    if isPrime(userInput):\n",
        "        print(f\"{userInput} is a prime number.\")\n",
        "    else:\n",
        "        print(f\"{userInput} is not a prime number.\")\n",
        "except ValueError:\n",
        "    print(\"Invalid input. Please enter a valid integer.\")\n",
        "\n"
      ]
    },
    {
      "cell_type": "markdown",
      "metadata": {
        "id": "xCa2bK9aD4Q3"
      },
      "source": [
        "(10) Write a Python program to concatenate following dictionaries to create a new one.\n",
        "\n",
        "Sample Dictionary : dic1={1:10, 2:20}, dic2={3:30, 4:40}, dic3={5:50,6:60},\n",
        "\n",
        "Expected Result : {1: 10, 2: 20, 3: 30, 4: 40, 5: 50, 6: 60}\n"
      ]
    },
    {
      "cell_type": "code",
      "execution_count": 44,
      "metadata": {
        "id": "_z4aLqAbEET1",
        "colab": {
          "base_uri": "https://localhost:8080/"
        },
        "outputId": "5af73020-7343-4c0d-fed5-697e86833e16"
      },
      "outputs": [
        {
          "output_type": "stream",
          "name": "stdout",
          "text": [
            "Concatenated dictionary:\n",
            "{1: 10, 2: 20, 3: 30, 4: 40, 5: 50, 6: 60}\n"
          ]
        }
      ],
      "source": [
        "# write your answer here\n",
        "\n",
        "dic1 = {1: 10, 2: 20}\n",
        "dic2 = {3: 30, 4: 40}\n",
        "dic3 = {5: 50, 6: 60}\n",
        "\n",
        "# Concatenating dictionaries to create a new one\n",
        "dict4 = {**dic1, **dic2, **dic3}\n",
        "\n",
        "print(\"Concatenated dictionary:\")\n",
        "print(dict4)\n",
        "\n"
      ]
    },
    {
      "cell_type": "markdown",
      "source": [
        "(11) Design a Python function that takes a tuple of integers as input and returns the largest and smallest elements."
      ],
      "metadata": {
        "id": "bkyZ2xSZUOst"
      }
    },
    {
      "cell_type": "code",
      "source": [
        "# write your answer here\n",
        "def findMinMax(input_tuple):\n",
        "\n",
        "    if not input_tuple:\n",
        "        return None, None  # Return None for both min and max if the tuple is empty\n",
        "\n",
        "    # Initialize min and max with the first element of the tuple\n",
        "    minEle = maxEle = input_tuple[0]\n",
        "\n",
        "    # Iterate through the tuple to find the min and max elements\n",
        "    for num in input_tuple:\n",
        "        if num < minEle:\n",
        "            minEle = num\n",
        "        elif num > maxEle:\n",
        "            maxEle = num\n",
        "\n",
        "    return minEle, maxEle\n",
        "\n",
        "try:\n",
        "    userInput = input(\"Enter a tuple of integers separated by commas \")\n",
        "    tup = tuple(map(int, userInput.split(',')))\n",
        "\n",
        "    minVal, maxVal = findMinMax(tup)\n",
        "\n",
        "    if minVal is not None and maxVal is not None:\n",
        "        print(f\"The smallest element is: {minVal}\")\n",
        "        print(f\"The largest element is: {maxVal}\")\n",
        "    else:\n",
        "        print(\"The input tuple is empty.\")\n",
        "\n",
        "except ValueError:\n",
        "    print(\"Invalid input. Please enter a valid tuple of integers.\")\n"
      ],
      "metadata": {
        "id": "3FdLRBKOUQEd",
        "colab": {
          "base_uri": "https://localhost:8080/"
        },
        "outputId": "dfa3641f-7fb6-4b60-d7f1-a0c86da20f05"
      },
      "execution_count": 19,
      "outputs": [
        {
          "output_type": "stream",
          "name": "stdout",
          "text": [
            "Enter a tuple of integers separated by commas 1,2,3\n",
            "The smallest element is: 1\n",
            "The largest element is: 3\n"
          ]
        }
      ]
    },
    {
      "cell_type": "markdown",
      "source": [
        "(12) Write a Python program that counts the frequency of each character in a given string and stores it in a dictionary."
      ],
      "metadata": {
        "id": "O0TVi3gKUTpp"
      }
    },
    {
      "cell_type": "code",
      "source": [
        "# write your answer here\n",
        "# Function to count the frequency of each character in a string\n",
        "def charFrequency(input_string):\n",
        "\n",
        "    frequency = {}\n",
        "\n",
        "    for char in input_string:\n",
        "        frequency[char] = frequency.get(char, 0) + 1\n",
        "\n",
        "    return frequency\n",
        "\n",
        "try:\n",
        "    user_input = input(\"Enter a string: \")\n",
        "\n",
        "    # Call the function to count character frequency\n",
        "    frequencyDict = charFrequency(user_input)\n",
        "\n",
        "    # Display the result\n",
        "    print(\"Character frequency:\")\n",
        "    print(frequencyDict)\n",
        "\n",
        "except Exception as e:\n",
        "    print(f\"An error occurred: {e}\")\n"
      ],
      "metadata": {
        "id": "lAtfSfZXUU-h",
        "colab": {
          "base_uri": "https://localhost:8080/"
        },
        "outputId": "3e37bdf2-8cae-4870-92fa-18edaae19a7f"
      },
      "execution_count": 21,
      "outputs": [
        {
          "output_type": "stream",
          "name": "stdout",
          "text": [
            "Enter a string: maddy\n",
            "Character frequency:\n",
            "{'m': 1, 'a': 1, 'd': 2, 'y': 1}\n"
          ]
        }
      ]
    },
    {
      "cell_type": "markdown",
      "metadata": {
        "id": "0v48Vqa7FrQh"
      },
      "source": [
        "(13) Implement a Python script to identify duplicate elements in a provided array of integers. Return -1 if there are no duplicates."
      ]
    },
    {
      "cell_type": "code",
      "execution_count": 24,
      "metadata": {
        "id": "7WEmgq-DF2P1",
        "colab": {
          "base_uri": "https://localhost:8080/"
        },
        "outputId": "8b763cff-fce9-44be-ac5c-7831cf88eb56"
      },
      "outputs": [
        {
          "output_type": "stream",
          "name": "stdout",
          "text": [
            "Enter an array of integers separated by commas: 1,2,3,2,5,3,4\n",
            "set()\n",
            "The duplicate elements are: [2, 3]\n"
          ]
        }
      ],
      "source": [
        "# write your answer here\n",
        "def findDuplicates(arr):\n",
        "\n",
        "    d1 = set()\n",
        "    print(d1)\n",
        "    duplicates = set()\n",
        "\n",
        "    for num in arr:\n",
        "        if num in d1:\n",
        "            duplicates.add(num)\n",
        "        else:\n",
        "            d1.add(num)\n",
        "\n",
        "    if not duplicates:\n",
        "        return -1\n",
        "    else:\n",
        "        return list(duplicates)\n",
        "\n",
        "try:\n",
        "    userInput = input(\"Enter an array of integers separated by commas: \")\n",
        "    inputArray = list(map(int, userInput.split(',')))\n",
        "\n",
        "    result = findDuplicates(inputArray)\n",
        "\n",
        "    if result == -1:\n",
        "        print(\"No duplicates found.\")\n",
        "    else:\n",
        "        print(f\"The duplicate elements are: {result}\")\n",
        "\n",
        "except ValueError:\n",
        "    print(\"Invalid input. Please enter a valid array of integers.\")\n",
        "\n"
      ]
    },
    {
      "cell_type": "markdown",
      "metadata": {
        "id": "vD5PYLMuGga_"
      },
      "source": [
        "(14) Write a Python script to find the common elements between two lists."
      ]
    },
    {
      "cell_type": "code",
      "execution_count": 45,
      "metadata": {
        "id": "t0D5kdJUGjjw",
        "colab": {
          "base_uri": "https://localhost:8080/"
        },
        "outputId": "e9b51542-9598-46b6-f1fe-89a4ecc89963"
      },
      "outputs": [
        {
          "output_type": "stream",
          "name": "stdout",
          "text": [
            "Enter the first list of elements separated by commas: 2,3,5,3,5,4,6\n",
            "Enter the second list of elements separated by commas: 2,4,7,9,1\n",
            "The common elements are: [2, 4]\n"
          ]
        }
      ],
      "source": [
        "# write your answer here\n",
        "def findCommon(list1, list2):\n",
        "\n",
        "    commonElements = [e for e in list1 if e in list2]\n",
        "    return commonElements\n",
        "\n",
        "try:\n",
        "    userInput = input(\"Enter the first list of elements separated by commas: \")\n",
        "    list1 = list(map(int, userInput.split(',')))\n",
        "\n",
        "    userInput2 = input(\"Enter the second list of elements separated by commas: \")\n",
        "    list2 = list(map(int, userInput2.split(',')))\n",
        "\n",
        "    result = findCommon(list1, list2)\n",
        "\n",
        "    if result:\n",
        "        print(f\"The common elements are: {result}\")\n",
        "    else:\n",
        "        print(\"No common elements found.\")\n",
        "\n",
        "except ValueError:\n",
        "    print(\"Invalid input. Please enter valid lists of elements.\")\n",
        "\n"
      ]
    },
    {
      "cell_type": "markdown",
      "metadata": {
        "id": "uHkd-y5VhVWC"
      },
      "source": [
        "(15) Write a Python program to randomly divide the students in this class into six groups for term projects, each group should have at least 4 students but no more than 6 students (including 6).\n",
        "\n",
        "Here is the students list:\n",
        "\n",
        "student_list_spring_2024=[rb0846,\n",
        "ac1964,\n",
        "hc0612,\n",
        "md0912,\n",
        "ad1198,\n",
        "md0894,\n",
        "md0825,\n",
        "vg0598,\n",
        "vg0433,\n",
        "mh1068,\n",
        "yj0173,\n",
        "pk0553,\n",
        "tk0411,\n",
        "srk0204,\n",
        "sk2922,\n",
        "sk2936,\n",
        "mk1302,\n",
        "mk1317,\n",
        "tk0412,\n",
        "vk0656,\n",
        "sm2985,\n",
        "mm2372,\n",
        "un0045,\n",
        "an0892,\n",
        "sn0913,\n",
        "gp0252,\n",
        "ap1484,\n",
        "mr1765,\n",
        "sr1385,\n",
        "sr1335,\n",
        "hs0665,\n",
        "ms2060,\n",
        "gt0217,\n",
        "nt0385,\n",
        "tv0186,\n",
        "sv1394,\n",
        "sv1752,\n",
        "sv1555,\n",
        "sy0594\n",
        "]\n"
      ]
    },
    {
      "cell_type": "code",
      "execution_count": 25,
      "metadata": {
        "id": "3iGbmcOBhTwy",
        "colab": {
          "base_uri": "https://localhost:8080/"
        },
        "outputId": "ec6e069b-2c11-48e3-a5a0-64463483ec46"
      },
      "outputs": [
        {
          "output_type": "stream",
          "name": "stdout",
          "text": [
            "Group 1: ['un0045', 'mr1765', 'sm2985', 'sr1385', 'sv1752', 'sk2936', 'gp0252']\n",
            "Group 2: ['hc0612', 'md0894', 'md0825', 'sv1555', 'hs0665', 'srk0204', 'mm2372']\n",
            "Group 3: ['nt0385', 'sn0913', 'tk0412', 'ap1484', 'ms2060', 'gt0217', 'sv1394']\n",
            "Group 4: ['md0912', 'mk1317', 'sy0594', 'vk0656', 'sk2922', 'rb0846']\n",
            "Group 5: ['vg0598', 'yj0173', 'tk0411', 'mh1068', 'an0892', 'sr1335']\n",
            "Group 6: ['pk0553', 'ad1198', 'vg0433', 'tv0186', 'mk1302', 'ac1964']\n"
          ]
        }
      ],
      "source": [
        "# write your answer here\n",
        "import random\n",
        "\n",
        "def studentGroups(studentList):\n",
        "    # Shuffle the student list to randomize the order\n",
        "    random.shuffle(studentList)\n",
        "\n",
        "    # Initialize variables\n",
        "    groups = [[] for _ in range(6)]\n",
        "    currentGroup = 0\n",
        "\n",
        "    # Assign students to groups\n",
        "    for student in studentList:\n",
        "        groups[currentGroup].append(student)\n",
        "        currentGroup = (currentGroup + 1) % 6\n",
        "\n",
        "    return groups\n",
        "\n",
        "# Student list for the spring 2024 term\n",
        "student_list_pring_2024 = [\"rb0846\", \"ac1964\", \"hc0612\", \"md0912\", \"ad1198\", \"md0894\", \"md0825\", \"vg0598\", \"vg0433\", \"mh1068\",\n",
        "                            \"yj0173\", \"pk0553\", \"tk0411\", \"srk0204\", \"sk2922\", \"sk2936\", \"mk1302\", \"mk1317\", \"tk0412\", \"vk0656\",\n",
        "                            \"sm2985\", \"mm2372\", \"un0045\", \"an0892\", \"sn0913\", \"gp0252\", \"ap1484\", \"mr1765\", \"sr1385\", \"sr1335\",\n",
        "                            \"hs0665\", \"ms2060\", \"gt0217\", \"nt0385\", \"tv0186\", \"sv1394\", \"sv1752\", \"sv1555\", \"sy0594\"]\n",
        "\n",
        "# Divide students into groups\n",
        "resultGroups = studentGroups(student_list_pring_2024)\n",
        "\n",
        "# Display the result\n",
        "for i, group in enumerate(resultGroups, start=1):\n",
        "    print(f\"Group {i}: {group}\")\n",
        "\n"
      ]
    },
    {
      "cell_type": "markdown",
      "metadata": {
        "id": "fmZ9vX20Qs3d"
      },
      "source": [
        "(16) Create a program that takes a positive integer 'n' as input and prints the count of even numbers from 1 to 'n'. Optimize the loop using the break statement."
      ]
    },
    {
      "cell_type": "code",
      "execution_count": 46,
      "metadata": {
        "id": "W8Jw6sWMQs3d",
        "colab": {
          "base_uri": "https://localhost:8080/"
        },
        "outputId": "c5dd177a-d47a-4d5b-9a54-97d5162731ae"
      },
      "outputs": [
        {
          "output_type": "stream",
          "name": "stdout",
          "text": [
            "Enter a positive integer 'n': 22\n",
            "The count of even numbers from 1 to 22 is: 11\n"
          ]
        }
      ],
      "source": [
        "# write your answer here\n",
        "def countEvenNum(n):\n",
        "    # Ensure that n is a positive integer\n",
        "    if not isinstance(n, int) or n <= 0:\n",
        "        print(\"Please enter a positive integer.\")\n",
        "        return\n",
        "\n",
        "    count = 0\n",
        "\n",
        "    for i in range(1, n + 1):\n",
        "        if i % 2 == 0:\n",
        "            count += 1\n",
        "        elif i > n:\n",
        "            break\n",
        "\n",
        "    print(f\"The count of even numbers from 1 to {n} is: {count}\")\n",
        "\n",
        "try:\n",
        "    userInput = int(input(\"Enter a positive integer 'n': \"))\n",
        "    countEvenNum(userInput)\n",
        "\n",
        "except ValueError:\n",
        "    print(\"Invalid input. Please enter a valid positive integer.\")\n"
      ]
    },
    {
      "cell_type": "markdown",
      "metadata": {
        "id": "hvq4APMhQs3d"
      },
      "source": [
        "(17) Develop a Python function called 'count_vowels' that takes a string as input and returns the count of vowels (both lowercase and uppercase) present in the string, ignoring spaces and non-alphabetic characters."
      ]
    },
    {
      "cell_type": "code",
      "execution_count": 28,
      "metadata": {
        "id": "ZnoxhSglQs3d",
        "colab": {
          "base_uri": "https://localhost:8080/"
        },
        "outputId": "243201f8-bc33-4360-b368-01501acf1dcc"
      },
      "outputs": [
        {
          "output_type": "stream",
          "name": "stdout",
          "text": [
            "Enter a string: maddy\n",
            "The count of vowels in the string is: 1\n"
          ]
        }
      ],
      "source": [
        "# write your answer here\n",
        "def count_vowels(str):\n",
        "\n",
        "    vowels = set(\"aeiouAEIOU\")\n",
        "    vowelCount = 0\n",
        "\n",
        "    for char in str:\n",
        "        if char.isalpha() and char in vowels:\n",
        "            vowelCount += 1\n",
        "\n",
        "    return vowelCount\n",
        "\n",
        "try:\n",
        "    userInput = input(\"Enter a string: \")\n",
        "    result = count_vowels(userInput)\n",
        "\n",
        "    print(f\"The count of vowels in the string is: {result}\")\n",
        "\n",
        "except Exception as e:\n",
        "    print(f\"An error occurred: {e}\")\n",
        "\n"
      ]
    },
    {
      "cell_type": "markdown",
      "source": [
        "(18) Create a custom exception named ValueTooSmallError in Python. Write a program that takes user input for an age, and if the entered age is less than 18, raise the ValueTooSmallError with an appropriate error message."
      ],
      "metadata": {
        "id": "55FWoSJPVVM6"
      }
    },
    {
      "cell_type": "code",
      "source": [
        "# write your answer here\n",
        "class ValueTooSmallError(Exception):\n",
        "\n",
        "    def __init__(self, message=\"Value is too small\"):\n",
        "        self.message = message\n",
        "        super().__init__(self.message)\n",
        "\n",
        "def get_user_age():\n",
        "\n",
        "    try:\n",
        "        age = int(input(\"Enter your age: \"))\n",
        "        if age < 18:\n",
        "            raise ValueTooSmallError(\"Age must be 18 or older.\")\n",
        "        return age\n",
        "\n",
        "    except ValueError:\n",
        "        raise ValueTooSmallError(\"Invalid input. Please enter a valid age.\")\n",
        "\n",
        "try:\n",
        "    user_age = get_user_age()\n",
        "    print(f\"Your age is: {user_age}\")\n",
        "\n",
        "except ValueTooSmallError as e:\n",
        "    print(f\"Error: {e}\")\n",
        "\n"
      ],
      "metadata": {
        "id": "hwtr1wZmVX5A",
        "colab": {
          "base_uri": "https://localhost:8080/"
        },
        "outputId": "2afe6057-e0fb-4686-ab42-946d54bae7a5"
      },
      "execution_count": 29,
      "outputs": [
        {
          "output_type": "stream",
          "name": "stdout",
          "text": [
            "Enter your age: 13\n",
            "Error: Age must be 18 or older.\n"
          ]
        }
      ]
    },
    {
      "cell_type": "markdown",
      "source": [
        "(19) Develop a script that reverses a given string without using built-in reverse functions."
      ],
      "metadata": {
        "id": "Q9ecagcaVazW"
      }
    },
    {
      "cell_type": "code",
      "source": [
        "# write your answer here\n",
        "def reverseString(str):\n",
        "\n",
        "    reversedStr = \"\"\n",
        "\n",
        "    for char in str[::-1]:\n",
        "        reversedStr += char\n",
        "\n",
        "    return reversedStr\n",
        "\n",
        "try:\n",
        "    userInput = input(\"Enter a string: \")\n",
        "    result = reverseString(userInput)\n",
        "\n",
        "    print(f\"The reversed string is: {result}\")\n",
        "\n",
        "except Exception as e:\n",
        "    print(f\"An error occurred: {e}\")\n",
        "\n"
      ],
      "metadata": {
        "id": "gycgckoAVZjR",
        "colab": {
          "base_uri": "https://localhost:8080/"
        },
        "outputId": "828e36e3-1f7b-42c1-bdb5-54df2509ce96"
      },
      "execution_count": 30,
      "outputs": [
        {
          "output_type": "stream",
          "name": "stdout",
          "text": [
            "Enter a string: maddy\n",
            "The reversed string is: yddam\n"
          ]
        }
      ]
    },
    {
      "cell_type": "markdown",
      "source": [
        "(20) Implement a Python script to generate a random password of a specified length."
      ],
      "metadata": {
        "id": "ZFG6RibifMLu"
      }
    },
    {
      "cell_type": "code",
      "source": [
        "# write your answer here\n",
        "import string\n",
        "import secrets\n",
        "\n",
        "def generateRandomPassword(length):\n",
        "\n",
        "    characters = string.ascii_letters + string.digits + string.punctuation\n",
        "    password = ''.join(secrets.choice(characters) for _ in range(length))\n",
        "    return password\n",
        "\n",
        "try:\n",
        "    passwordLen = int(input(\"Enter the length of the password: \"))\n",
        "    if passwordLen <= 0:\n",
        "        raise ValueError(\"Password length must be a positive integer.\")\n",
        "\n",
        "    generatedPassword = generateRandomPassword(passwordLen)\n",
        "    print(f\"Generated Password: {generatedPassword}\")\n",
        "\n",
        "except ValueError as e:\n",
        "    print(f\"Error: {e}\")\n",
        "except Exception as e:\n",
        "    print(f\"An unexpected error occurred: {e}\")\n"
      ],
      "metadata": {
        "id": "BFVrkEi9fNiD",
        "colab": {
          "base_uri": "https://localhost:8080/"
        },
        "outputId": "a47f24ac-7cbf-46f1-884d-3a9b1a3db15b"
      },
      "execution_count": 31,
      "outputs": [
        {
          "output_type": "stream",
          "name": "stdout",
          "text": [
            "Enter the length of the password: 6\n",
            "Generated Password: dqKL!E\n"
          ]
        }
      ]
    },
    {
      "cell_type": "markdown",
      "source": [
        "# Try these questions:"
      ],
      "metadata": {
        "id": "6SmvS7nSfbj8"
      }
    },
    {
      "cell_type": "markdown",
      "source": [
        "(21) Define a base class called 'Vehicle' with attributes make and model. Create a derived class Car that inherits from Vehicle and has an additional attribute 'num_doors'. Demonstrate an example of creating an instance of the 'Car' class and accessing its attributes."
      ],
      "metadata": {
        "id": "cboAr5pEWUf5"
      }
    },
    {
      "cell_type": "code",
      "source": [
        "# write your answer here\n",
        "class Vehicle:\n",
        "    def __init__(self, make, model):\n",
        "        self.make = make\n",
        "        self.model = model\n",
        "\n",
        "class Car(Vehicle):\n",
        "    def __init__(self, make, model, num_doors):\n",
        "        # Call the constructor of the base class (Vehicle)\n",
        "        super().__init__(make, model)\n",
        "        self.num_doors = num_doors\n",
        "\n",
        "try:\n",
        "    carObj = Car(make=\"Toyota\", model=\"Camry\", num_doors=4)\n",
        "\n",
        "    # Accessing attributes\n",
        "    print(f\"Make: {carObj.make}\")\n",
        "    print(f\"Model: {carObj.model}\")\n",
        "    print(f\"Number of Doors: {carObj.num_doors}\")\n",
        "\n",
        "except Exception as e:\n",
        "    print(f\"An unexpected error occurred: {e}\")\n",
        "\n"
      ],
      "metadata": {
        "id": "phs9gciMWWAW",
        "colab": {
          "base_uri": "https://localhost:8080/"
        },
        "outputId": "2af50c68-b1f1-47b2-866e-580896b9bacf"
      },
      "execution_count": 32,
      "outputs": [
        {
          "output_type": "stream",
          "name": "stdout",
          "text": [
            "Make: Toyota\n",
            "Model: Camry\n",
            "Number of Doors: 4\n"
          ]
        }
      ]
    },
    {
      "cell_type": "markdown",
      "source": [
        "(22) Create a class called 'Shape' with a method calculate_area(). Implement two derived classes 'Circle' and 'Rectangle' that inherit from Shape and override the calculate_area() method. Demonstrate polymorphism by creating instances of both derived classes and calling the calculate_area() method."
      ],
      "metadata": {
        "id": "J8HHefNtePwd"
      }
    },
    {
      "cell_type": "code",
      "source": [
        "# write your answer here\n",
        "import math\n",
        "\n",
        "class Shape:\n",
        "    def calculateArea(self):\n",
        "        pass  # This method will be overridden by the derived classes\n",
        "\n",
        "class Circle(Shape):\n",
        "    def __init__(self, radius):\n",
        "        self.radius = radius\n",
        "\n",
        "    def calculateArea(self):\n",
        "        return math.pi * self.radius**2\n",
        "\n",
        "class Rectangle(Shape):\n",
        "    def __init__(self, length, width):\n",
        "        self.length = length\n",
        "        self.width = width\n",
        "\n",
        "    def calculateArea(self):\n",
        "        return self.length * self.width\n",
        "\n",
        "try:\n",
        "    # Creating instances of derived classes\n",
        "    circleObj = Circle(radius=5)\n",
        "    rectangleObj = Rectangle(length=4, width=6)\n",
        "\n",
        "    # Demonstrating polymorphism by calling the calculate area() method\n",
        "    print(f\"Circle Area: {circleObj.calculateArea()}\")\n",
        "    print(f\"Rectangle Area: {rectangleObj.calculateArea()}\")\n",
        "\n",
        "except Exception as e:\n",
        "    print(f\"An unexpected error occurred: {e}\")\n"
      ],
      "metadata": {
        "id": "btnMmUZDeRhS",
        "colab": {
          "base_uri": "https://localhost:8080/"
        },
        "outputId": "928f6bd1-3d07-4b94-fd82-59023cb317fc"
      },
      "execution_count": 33,
      "outputs": [
        {
          "output_type": "stream",
          "name": "stdout",
          "text": [
            "Circle Area: 78.53981633974483\n",
            "Rectangle Area: 24\n"
          ]
        }
      ]
    },
    {
      "cell_type": "markdown",
      "source": [
        "(23) Write a Python program that prompts the user to enter two numbers and perform a division operation. Handle exceptions for both zero division and invalid input (non-numeric input). Display appropriate error messages for each type of exception and ensure the program does not crash due to these errors."
      ],
      "metadata": {
        "id": "z0oqEAlTeMUS"
      }
    },
    {
      "cell_type": "code",
      "source": [
        "# write your answer here\n",
        "try:\n",
        "    # Prompt the user to enter two numbers\n",
        "    num1 = float(input(\"Enter the first number: \"))\n",
        "    num2 = float(input(\"Enter the second number: \"))\n",
        "\n",
        "    # Perform division operation\n",
        "    result = num1 / num2\n",
        "\n",
        "    # Display the result\n",
        "    print(f\"The result of {num1} / {num2} is: {result}\")\n",
        "\n",
        "except ValueError:\n",
        "    print(\"Invalid input. Please enter numeric values.\")\n",
        "except ZeroDivisionError:\n",
        "    print(\"Error: Division by zero is not allowed.\")\n",
        "except Exception as e:\n",
        "    print(f\"An unexpected error occurred: {e}\")\n"
      ],
      "metadata": {
        "id": "yjdc1zM1eMAs",
        "colab": {
          "base_uri": "https://localhost:8080/"
        },
        "outputId": "7aaabb15-f6b6-4dd3-dc2c-c84d79fe1cb0"
      },
      "execution_count": 35,
      "outputs": [
        {
          "output_type": "stream",
          "name": "stdout",
          "text": [
            "Enter the first number: a\n",
            "Invalid input. Please enter numeric values.\n"
          ]
        }
      ]
    },
    {
      "cell_type": "markdown",
      "source": [
        "# Mandatory Question"
      ],
      "metadata": {
        "id": "sZOhks1dXWEe"
      }
    },
    {
      "cell_type": "markdown",
      "source": [
        "**Important:**\n",
        "Reflecting on the first three lectures and the exercises you've completed, please provide feedback on your learning experience. Share your thoughts on whether the material covered was clear, the exercises were helpful, and if you feel more confident in applying Python programming concepts. Additionally, mention any specific areas where you would like more clarification or topics you would like to explore further in future lectures. Your feedback is valuable in shaping the course for an effective learning journey."
      ],
      "metadata": {
        "id": "eqmHVEwaWhbV"
      }
    },
    {
      "cell_type": "markdown",
      "source": [
        "Write your response here."
      ],
      "metadata": {
        "id": "HlpXOT9wXQAd"
      }
    },
    {
      "cell_type": "code",
      "source": [
        "## As a begineer, The first three lectures and excercises were helpful for me in gaining knowledge on python.\n",
        "## The material was clear and I feel more confident in python programming now. I feel like exploring pratical real time applictions and building small projects would increase the learning excercise"
      ],
      "metadata": {
        "id": "Dq2aOZU7XIke"
      },
      "execution_count": 38,
      "outputs": []
    },
    {
      "cell_type": "code",
      "source": [],
      "metadata": {
        "id": "3f3O8VbV5mZb"
      },
      "execution_count": null,
      "outputs": []
    }
  ],
  "metadata": {
    "colab": {
      "provenance": [],
      "include_colab_link": true
    },
    "kernelspec": {
      "display_name": "Python 3 (ipykernel)",
      "language": "python",
      "name": "python3"
    },
    "language_info": {
      "codemirror_mode": {
        "name": "ipython",
        "version": 3
      },
      "file_extension": ".py",
      "mimetype": "text/x-python",
      "name": "python",
      "nbconvert_exporter": "python",
      "pygments_lexer": "ipython3",
      "version": "3.9.12"
    }
  },
  "nbformat": 4,
  "nbformat_minor": 0
}