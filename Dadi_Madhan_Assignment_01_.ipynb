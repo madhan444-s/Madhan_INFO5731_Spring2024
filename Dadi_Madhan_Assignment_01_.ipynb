{
  "metadata": {
    "kernelspec": {
      "name": "python",
      "display_name": "Python (Pyodide)",
      "language": "python"
    },
    "language_info": {
      "codemirror_mode": {
        "name": "python",
        "version": 3
      },
      "file_extension": ".py",
      "mimetype": "text/x-python",
      "name": "python",
      "nbconvert_exporter": "python",
      "pygments_lexer": "ipython3",
      "version": "3.8"
    },
    "colab": {
      "provenance": [],
      "include_colab_link": true
    }
  },
  "nbformat_minor": 0,
  "nbformat": 4,
  "cells": [
    {
      "cell_type": "markdown",
      "metadata": {
        "id": "view-in-github",
        "colab_type": "text"
      },
      "source": [
        "<a href=\"https://colab.research.google.com/github/madhan444-s/Madhan_INFO5731_Spring2024/blob/main/Dadi_Madhan_Assignment_01_.ipynb\" target=\"_parent\"><img src=\"https://colab.research.google.com/assets/colab-badge.svg\" alt=\"Open In Colab\"/></a>"
      ]
    },
    {
      "cell_type": "markdown",
      "source": [
        "# **INFO5731 Assignment One**"
      ],
      "metadata": {
        "id": "Ryk8D1Q4Wsrp"
      }
    },
    {
      "cell_type": "markdown",
      "source": [
        "This assignment includes range of programming tasks and data analysis exercises, aiming to enhance your Python skills and proficiency in string manipulation, numerical computations, and data science. Follow the instructions carefully and design well-structured Python programs to address each question.\n",
        "\n",
        "Late Submission will have a penalty of 10% reduction for each day after the deadline."
      ],
      "metadata": {
        "id": "qcP6re2g5A5r"
      }
    },
    {
      "cell_type": "markdown",
      "source": [
        "# Question 1 (10 points).\n",
        "\n",
        "The formula that describes the volume V of a hemisphere with radius r is the following:\n",
        "\n",
        "$ V=\\frac{2}{3}\\ast\\ \\pi\\ast\\ r^3 $\n",
        "\n",
        "Write a program to calculate the value of V when r is in the range of even numbers from 1-20. Output the result in the following format:\n",
        "\n",
        "\tr\tV\n",
        "\t2\t…\n",
        "\t4\t…\n",
        "\t6\t…\n",
        "\t.\n",
        "\t.\n",
        "\t.\n",
        "\t20\t…\n"
      ],
      "metadata": {
        "id": "JkzR8cFAyGik"
      }
    },
    {
      "cell_type": "code",
      "source": [
        "# Your code here\n",
        "import math\n",
        "\n",
        "def calculateHemisphereVolume(radius):\n",
        "    return (2/3) * math.pi * radius**3\n",
        "\n",
        "def main():\n",
        "    print(\"r\\tV\")\n",
        "    for r in range(2, 21, 2):\n",
        "        v = calculateHemisphereVolume(r)\n",
        "        print(f\"{r}\\t{v:.2f}\")\n",
        "\n",
        "if __name__ == \"__main__\":\n",
        "    main()\n"
      ],
      "metadata": {
        "id": "jDyTKYs-yGit",
        "colab": {
          "base_uri": "https://localhost:8080/"
        },
        "outputId": "c31ebae0-157a-4e39-a240-e550156e4375"
      },
      "outputs": [
        {
          "output_type": "stream",
          "name": "stdout",
          "text": [
            "r\tV\n",
            "2\t16.76\n",
            "4\t134.04\n",
            "6\t452.39\n",
            "8\t1072.33\n",
            "10\t2094.40\n",
            "12\t3619.11\n",
            "14\t5747.02\n",
            "16\t8578.64\n",
            "18\t12214.51\n",
            "20\t16755.16\n"
          ]
        }
      ],
      "execution_count": 1
    },
    {
      "cell_type": "markdown",
      "source": [
        "# Question 2 (20 points)\n",
        "\n",
        "(a) Write a Python program to generate a sequence of 12 random numbers falling within the range of 50 to 150.\n",
        "\n",
        "(b) Arrange the generated numbers in ascending order. Display the sorted list.\n",
        "\n",
        "(c) Extend the program to arrange the numbers in descending order as well. Present the sorted list accordingly.\n",
        "\n",
        "(d) Compute and output the average of the entire group of generated numbers.\n",
        "\n",
        "(e) Enhance the program to calculate and display the average of the first 6 numbers from both the ascending and descending sorted lists."
      ],
      "metadata": {
        "id": "90_NR8c5XGWc"
      }
    },
    {
      "cell_type": "code",
      "source": [
        "# Write code for each of the sub parts with proper comments.\n",
        "\n",
        "import random\n",
        "\n",
        "# Function to generate a sequence of 12 random numbers in the range of 50 to 150\n",
        "def generateRandomNumbers():\n",
        "    return [random.randint(50, 150) for _ in range(12)]\n",
        "\n",
        "# Function to calculate and return the average of a list of numbers\n",
        "def calculateAverage(numbers):\n",
        "    return sum(numbers) / len(numbers)\n",
        "\n",
        "def main():\n",
        "    # (a) Generate a sequence of 12 random numbers\n",
        "    randomNumbers = generateRandomNumbers()\n",
        "\n",
        "    # (b) Arrange the generated numbers in ascending order and display the sorted list\n",
        "    ascendingSort = sorted(randomNumbers)\n",
        "    print(\"Ascending Sorted List:\", ascendingSort)\n",
        "\n",
        "    # (c) Arrange the numbers in descending order and display the sorted list\n",
        "    descendingSort = sorted(randomNumbers, reverse=True)\n",
        "    print(\"Descending Sorted List:\", descendingSort)\n",
        "\n",
        "    # (d) Compute and output the average of the entire group of generated numbers\n",
        "    average_all_numbers = calculateAverage(randomNumbers)\n",
        "    print(f\"Average of all numbers: {average_all_numbers:.2f}\")\n",
        "\n",
        "    # (e) Calculate and display the average of the first 6 numbers from both lists\n",
        "    averageFirst6Ascending = calculateAverage(ascendingSort[:6])\n",
        "    averageFirst6Descending = calculateAverage(descendingSort[:6])\n",
        "\n",
        "    print(f\"Average of the first 6 numbers (Ascending): {averageFirst6Ascending:.2f}\")\n",
        "    print(f\"Average of the first 6 numbers (Descending): {averageFirst6Descending:.2f}\")\n",
        "\n",
        "if __name__ == \"__main__\":\n",
        "    main()\n"
      ],
      "metadata": {
        "id": "5QX6bJjGWXY9",
        "colab": {
          "base_uri": "https://localhost:8080/"
        },
        "outputId": "07c47578-02c9-44fc-e5b8-917dccfd5ea6"
      },
      "outputs": [
        {
          "output_type": "stream",
          "name": "stdout",
          "text": [
            "Ascending Sorted List: [54, 74, 74, 89, 93, 103, 106, 110, 134, 139, 141, 143]\n",
            "Descending Sorted List: [143, 141, 139, 134, 110, 106, 103, 93, 89, 74, 74, 54]\n",
            "Average of all numbers: 105.00\n",
            "Average of the first 6 numbers (Ascending): 81.17\n",
            "Average of the first 6 numbers (Descending): 128.83\n"
          ]
        }
      ],
      "execution_count": 9
    },
    {
      "cell_type": "markdown",
      "source": [
        "# Question 3 (20 points).\n",
        "\n",
        "Create a Python program that encompasses various string manipulation task:\n",
        "\n",
        "(a) Prompt the user to input two sentences.\n",
        "\n",
        "(b) Transform each sentence into a list, where each element corresponds to a word in the sentence. For example, if the sentences are \"Hello, how are you doing today?\" and \"This is an example sentence for the program!\"\n",
        "\n",
        "The program should output:\n",
        "['Hello', ',', 'how', 'are', 'you', 'doing', 'today', '?', 'This', 'is', 'an', 'example', 'sentence', 'for', 'the', 'program', '!']\n",
        "\n",
        "(c) Compare the two sentences. Print out a list of words that occur in both sentences.\n",
        "\n",
        "(d) Remove any punctuation from the sentence and print the sanitized sentences. It should remove at least the following characters, but it can remove more: period(“.”), comma (“,”), semicolon (“;”), and colon (“:”).\n",
        "\n",
        "(e) Count the number of vowels in each of the sentences. Print out each vowel and the occurrences  in the each of the two sentences separately, such as:\n",
        "\n",
        "Sentence1: a:2, e:2, i:0, etc.\n",
        "Sentence2: a:1, e:2, i:2, etc.\n",
        "\n",
        "Design a well-structured Python program to execute these tasks efficiently."
      ],
      "metadata": {
        "id": "1F_PZdH9Sh49"
      }
    },
    {
      "cell_type": "code",
      "source": [
        "import string\n",
        "\n",
        "def getWordList(sentence):\n",
        "    # Transform a sentence into a list of words\n",
        "    words = sentence.split()\n",
        "\n",
        "    return words\n",
        "\n",
        "def commonWords(list1, list2):\n",
        "    # Find common words between two lists\n",
        "    return list(set(list1) & set(list2))\n",
        "\n",
        "def removePunctuation(sentence):\n",
        "    # Remove specified punctuation from the sentence\n",
        "    translator = str.maketrans('', '', string.punctuation)\n",
        "    return sentence.translate(translator)\n",
        "\n",
        "def countVowels(sentence):\n",
        "    # Count occurrences of each vowel in a sentence\n",
        "    vowels = \"aeiou\"\n",
        "    vowelCount = {vowel: sentence.lower().count(vowel) for vowel in vowels}\n",
        "    return vowelCount\n",
        "\n",
        "def printVowelCount(vowelCount, sentenceNumber):\n",
        "    print(f\"Sentence{sentenceNumber}: \", end=\"\")\n",
        "    for vowel, count in vowelCount.items():\n",
        "        print(f\"{vowel}:{count}\", end=\", \")\n",
        "    print()\n",
        "\n",
        "def main():\n",
        "    # Prompt user for input\n",
        "    sentence1 = input(\"Enter the first sentence: \")\n",
        "    sentence2 = input(\"Enter the second sentence: \")\n",
        "\n",
        "    # Transform each sentence into a list of words\n",
        "    words1 = getWordList(sentence1)\n",
        "    words2 = getWordList(sentence2)\n",
        "\n",
        "    # Print the combined list of words from both sentences\n",
        "    combinedWords = words1 + words2\n",
        "    print(combinedWords)\n",
        "\n",
        "    # Print common words in both sentences\n",
        "    common = commonWords(words1, words2)\n",
        "    print(\"Common words:\", common)\n",
        "\n",
        "    # Remove punctuation from sentences\n",
        "    sanitizedSentence1 = removePunctuation(sentence1)\n",
        "    sanitizedSentence2 = removePunctuation(sentence2)\n",
        "    print(\"Sanitized Sentence 1:\", sanitizedSentence1)\n",
        "    print(\"Sanitized Sentence 2:\", sanitizedSentence2)\n",
        "\n",
        "    # Count vowels in each sentence\n",
        "    vowelCount1 = countVowels(sentence1)\n",
        "    vowelCount2 = countVowels(sentence2)\n",
        "\n",
        "    # Print vowel counts\n",
        "    print(\"\\nVowel Count:\")\n",
        "    printVowelCount(vowelCount1, 1)\n",
        "    printVowelCount(vowelCount2, 2)\n",
        "\n",
        "if __name__ == \"__main__\":\n",
        "    main()\n"
      ],
      "metadata": {
        "id": "Y0oOSlsOS0cq",
        "colab": {
          "base_uri": "https://localhost:8080/"
        },
        "outputId": "6a96dd37-cb8f-4637-c4e3-dcd9119b7b22"
      },
      "outputs": [
        {
          "output_type": "stream",
          "name": "stdout",
          "text": [
            "Enter the first sentence: Hello, how are you doing today?\n",
            "Enter the second sentence: This is an example sentence for the program!\n",
            "['Hello,', 'how', 'are', 'you', 'doing', 'today?', 'This', 'is', 'an', 'example', 'sentence', 'for', 'the', 'program!']\n",
            "Common words: []\n",
            "Sanitized Sentence 1: Hello how are you doing today\n",
            "Sanitized Sentence 2: This is an example sentence for the program\n",
            "\n",
            "Vowel Count:\n",
            "Sentence1: a:2, e:2, i:1, o:5, u:1, \n",
            "Sentence2: a:3, e:6, i:2, o:2, u:0, \n"
          ]
        }
      ],
      "execution_count": 2
    },
    {
      "cell_type": "markdown",
      "source": [
        "# Question 4 (20 Points)"
      ],
      "metadata": {
        "id": "OP4-5qxAtInv"
      }
    },
    {
      "cell_type": "markdown",
      "source": [
        "Design and implement a simple command-line calculator program. The program should handle both integers and floating-point numbers.\n",
        "\n",
        "(a) Write program that takes a mathematical expression as input and evaluates it. The program should support addition, subtraction, multiplication, and division.\n",
        "\n",
        "(b) Extend the calculator to handle parentheses in mathematical expressions. Implement the necessary logic to evaluate expressions with nested parentheses.\n",
        "\n",
        "(c) Enhance your calculator to include additional mathematical operations such as exponentiation, square root, and modulus.\n",
        "\n",
        "(d) Implement error handling in the calculator program. Handle cases such as division by zero and invalid input expressions. Provide meaningful error messages.\n",
        "\n",
        "(e) Implement a command to exit the calculator."
      ],
      "metadata": {
        "id": "uzN4_hDptK9U"
      }
    },
    {
      "cell_type": "code",
      "source": [
        "# Your code here\n",
        "import re\n",
        "import math\n",
        "\n",
        "def evaluateExpression(expression):\n",
        "    try:\n",
        "        result = eval(expression)\n",
        "        return result\n",
        "    except ZeroDivisionError:\n",
        "        return \"Error: Division by zero\"\n",
        "    except SyntaxError:\n",
        "        return \"Error: Invalid expression\"\n",
        "\n",
        "def handleCalc():\n",
        "    while True:\n",
        "        userInput = input(\"Enter a mathematical expression (type 'exit' to quit): \")\n",
        "\n",
        "        if userInput.lower() == 'exit':\n",
        "            print(\"Exiting calculator. Goodbye!\")\n",
        "            break\n",
        "\n",
        "        # Check for valid input\n",
        "        if not re.match(r'^[0-9+\\-*/().^%sqrt\\s]+$', userInput):\n",
        "            print(\"Error: Invalid characters in expression\")\n",
        "            continue\n",
        "\n",
        "        result = evaluateExpression(userInput)\n",
        "        print(\"Result:\", result)\n",
        "\n",
        "if __name__ == \"__main__\":\n",
        "    print(\"Simple Command-Line Calculator\")\n",
        "    print(\"Supported operations: + - * / ^ % sqrt\")\n",
        "    print(\"Type 'exit' to quit\")\n",
        "\n",
        "    handleCalc()\n"
      ],
      "metadata": {
        "id": "8nQnVxjJuYtu",
        "colab": {
          "base_uri": "https://localhost:8080/"
        },
        "outputId": "84a4f3eb-0728-417f-aa2f-1762b8bb4197"
      },
      "outputs": [
        {
          "output_type": "stream",
          "name": "stdout",
          "text": [
            "Simple Command-Line Calculator\n",
            "Supported operations: + - * / ^ % sqrt\n",
            "Type 'exit' to quit\n",
            "Enter a mathematical expression (type 'exit' to quit): 2+3\n",
            "Result: 5\n",
            "Enter a mathematical expression (type 'exit' to quit): (2+3)*5\n",
            "Result: 25\n",
            "Enter a mathematical expression (type 'exit' to quit): a+b\n",
            "Error: Invalid characters in expression\n",
            "Enter a mathematical expression (type 'exit' to quit): exit\n",
            "Exiting calculator. Goodbye!\n"
          ]
        }
      ],
      "execution_count": 8
    },
    {
      "cell_type": "markdown",
      "source": [
        "# Question 5 (30 points).\n",
        "\n",
        "In the field of Data Science, data is often formatted as a comma-delimited (CSV) file, where each line in a file corresponds to a field's value. Refer to Chapter 9 (p. 106) for more information on comma-delimited files.\n",
        "\n",
        "To answer this question, you will need to download the file [Assignment1_denton_housing.csv](https://raw.githubusercontent.com/unt-iialab/info5731-spring2022/main/assignments/Assignment1_denton_housing.csv) included with this assignment. The file contains statistics about housing in the city of Denton from 2008 to 2014. Write a program to implement the following questions.\n",
        "\n",
        "(a) (5 pts) Calculate the difference in the number of Occupied Housing Units from year to year and print it. The difference must be calculated for the consecutive years such as 2008-2009, 2009-2010 etc. Finally, print the values in the ascending order.\n",
        "\n",
        "(b) (5 pts) For all the years, calculate the percentage of housing units which are vacant an occupied. Print the results in the following format:\n",
        "\n",
        "Year Vacant Housing Units Occupied Housing Units\n",
        "\n",
        "    2008  30%   70%                          \n",
        "\t2009 ----- -----\n",
        "\t2010 ----- -----\n",
        "    2011 ----- -----\n",
        "\t2012 ----- -----\n",
        "    2013 ----- -----\n",
        "\t2014 ----- -----\n",
        "  \n",
        "  \n",
        "\n",
        "(c) (10 pts) Calculate and print the valued and years in which the highest number of housing units were vacant and occupied. Print the results in the following format:  \n",
        "\n",
        "                              Year\tValue\n",
        "\tVacant Housing Units\t  -----   -----\n",
        "\tOccupied Housing Units\t-----   -----\n",
        "\n",
        "(d) (10 pts) Calculate the harmonic mean of the total housing units and print it out. You can find the information about harmonic mean here: https://ncalculators.com/statistics/harmonic-mean-calculator.htm"
      ],
      "metadata": {
        "id": "z3tBE7E-Xn5X"
      }
    },
    {
      "cell_type": "code",
      "source": [
        "import pandas as pd\n",
        "\n",
        "# Read the CSV file\n",
        "df = pd.read_csv(\"Assignment1_denton_housing.csv\")\n",
        "\n",
        "# Calculate the difference in the number of Occupied Housing Units from year to year and print it in ascending order\n",
        "df_diff = df[df['title_field'] == 'Occupied Housing Units'].copy()\n",
        "df_diff['Difference'] = df_diff['value'].diff()\n",
        "df_diff_sorted = df_diff[['year', 'Difference']].dropna().sort_values(by='Difference', ascending=True)\n",
        "print(\"Year | Difference in Occupied Housing Units\")\n",
        "print(df_diff_sorted.to_string(index=False))\n",
        "\n",
        "# Calculate the percentage of vacant and occupied housing units for each year and print the results\n",
        "df_pivot = df.pivot(index='year', columns='title_field', values='value')\n",
        "df_pivot['Total Housing Units'] = df_pivot['Vacant Housing Units'] + df_pivot['Occupied Housing Units']\n",
        "df_pivot['Vacant Housing Units (%)'] = (df_pivot['Vacant Housing Units'] / df_pivot['Total Housing Units']) * 100\n",
        "df_pivot['Occupied Housing Units (%)'] = (df_pivot['Occupied Housing Units'] / df_pivot['Total Housing Units']) * 100\n",
        "df_percentages = df_pivot[['Vacant Housing Units (%)', 'Occupied Housing Units (%)']]\n",
        "print(\"\\nYear | Vacant Housing Units (%) | Occupied Housing Units (%)\")\n",
        "print(df_percentages.to_string())\n",
        "\n",
        "# Calculate and print the years in which the highest number of housing units were vacant and occupied\n",
        "max_vacant_year = df_pivot['Vacant Housing Units'].idxmax()\n",
        "max_vacant_value = df_pivot['Vacant Housing Units'].max()\n",
        "max_occupied_year = df_pivot['Occupied Housing Units'].idxmax()\n",
        "max_occupied_value = df_pivot['Occupied Housing Units'].max()\n",
        "\n",
        "print(\"\\nYear | Value\")\n",
        "print(f\"Vacant Housing Units | {max_vacant_year} | {max_vacant_value}\")\n",
        "print(f\"Occupied Housing Units | {max_occupied_year} | {max_occupied_value}\")"
      ],
      "metadata": {
        "id": "lqGYuHBhcsRH",
        "colab": {
          "base_uri": "https://localhost:8080/"
        },
        "outputId": "5b8653e3-009a-4922-c8ba-ad7d465e20b1"
      },
      "outputs": [
        {
          "output_type": "stream",
          "name": "stdout",
          "text": [
            "Year | Difference in Occupied Housing Units\n",
            " year  Difference\n",
            " 2009     -5091.0\n",
            " 2013     -2622.0\n",
            " 2012     -1565.0\n",
            " 2011     -1404.0\n",
            " 2010       303.0\n",
            " 2008       795.0\n",
            "\n",
            "Year | Vacant Housing Units (%) | Occupied Housing Units (%)\n",
            "title_field  Vacant Housing Units (%)  Occupied Housing Units (%)\n",
            "year                                                             \n",
            "2008                        10.882653                   89.117347\n",
            "2009                         9.071116                   90.928884\n",
            "2010                         8.142556                   91.857444\n",
            "2011                         9.379522                   90.620478\n",
            "2012                         6.677600                   93.322400\n",
            "2013                         8.801788                   91.198212\n",
            "2014                         5.730111                   94.269889\n",
            "\n",
            "Year | Value\n",
            "Vacant Housing Units | 2008 | 4483\n",
            "Occupied Housing Units | 2014 | 46295\n"
          ]
        }
      ],
      "execution_count": 6
    },
    {
      "cell_type": "markdown",
      "source": [
        "# Mandatory Question\n",
        "\n",
        "Provide your thoughts on the assignment. What did you find challenging, and what aspects did you enjoy? Your opinion on the provided time to complete the assignment. Share any suggestions for improvement. Your feedback will be valuable for enhancing the learning experience."
      ],
      "metadata": {
        "id": "q8BFCvWp32cf"
      }
    },
    {
      "cell_type": "code",
      "source": [
        "# Write your response below\n",
        "\"\"\"The assignment provided is well-structured and covers various aspects of\n",
        "data analysis and manipulation, which are commonly encountered in the field of data science.\n",
        "\n",
        "Challenging aspects\n",
        "Performing calculations such as finding the difference between housing\n",
        "units over consecutive years, calculating percentages, and identifying maximum values\n",
        "require careful data manipulation and logic implementation.\n",
        "\n",
        "Enjoyable aspects:\n",
        "Designing solutions to the given tasks provided an opportunity to apply various programming and analytical\n",
        "skills to real-world problems.\n",
        "Exploring different aspects of data analysis, such as calculating percentages, identifying trends,\n",
        "and handling data errors, provided valuable learning experiences.\n",
        "\n",
        "Suggestions for improvement\n",
        "Providing additional context or background information about the dataset and its significance to the problem domain\n",
        "can enhance the learning experience.*/\n",
        "\"\"\""
      ],
      "metadata": {
        "id": "_e557s2w4BpK"
      },
      "outputs": [],
      "execution_count": null
    },
    {
      "cell_type": "code",
      "source": [],
      "metadata": {
        "trusted": true,
        "id": "Xlg-GXKT8q93"
      },
      "outputs": [],
      "execution_count": null
    },
    {
      "cell_type": "code",
      "source": [],
      "metadata": {
        "trusted": true,
        "id": "HQQqCLjd8q93"
      },
      "outputs": [],
      "execution_count": null
    }
  ]
}